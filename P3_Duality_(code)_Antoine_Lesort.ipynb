{
  "nbformat": 4,
  "nbformat_minor": 0,
  "metadata": {
    "colab": {
      "provenance": [],
      "authorship_tag": "ABX9TyM4+fIyRJkm9fcYHzBbaIWU",
      "include_colab_link": true
    },
    "kernelspec": {
      "name": "python3",
      "display_name": "Python 3"
    },
    "language_info": {
      "name": "python"
    }
  },
  "cells": [
    {
      "cell_type": "markdown",
      "metadata": {
        "id": "view-in-github",
        "colab_type": "text"
      },
      "source": [
        "<a href=\"https://colab.research.google.com/github/la-suerte/PythonForSimplex---Antoine-Lesort/blob/master/P3_Duality_(code)_Antoine_Lesort.ipynb\" target=\"_parent\"><img src=\"https://colab.research.google.com/assets/colab-badge.svg\" alt=\"Open In Colab\"/></a>"
      ]
    },
    {
      "cell_type": "code",
      "execution_count": 2,
      "metadata": {
        "colab": {
          "base_uri": "https://localhost:8080/"
        },
        "id": "HFGkVDnt7nM8",
        "outputId": "1368a877-956e-4e53-f9a3-16b8df70629a"
      },
      "outputs": [
        {
          "output_type": "stream",
          "name": "stdout",
          "text": [
            "Primal Solution:\n",
            "Optimal values (x1, x2, x3): [ 0.  52.5 20. ]\n",
            "Optimal objective value: 250.0\n",
            "\n",
            "Feasibility Check for Q = (0, 52.5, 20):\n",
            "Is Q feasible? Yes\n",
            "\n",
            "Dual Solution:\n",
            "Optimal values (y1, y2, y3): [0. 0. 0.]\n",
            "Optimal objective value: 0.0\n",
            "\n",
            "Complementary Slackness Check:\n",
            "Is complementary slackness satisfied? Yes\n",
            "\n",
            "Optimality Check for Q = (0, 52.5, 20):\n",
            "Is Q optimal for the primal problem? No\n"
          ]
        }
      ],
      "source": [
        "from scipy.optimize import linprog\n",
        "import numpy as np\n",
        "\n",
        "# Primal problem setup\n",
        "# Objective function coefficients for max z = x1 + 4x2 + 2x3\n",
        "c = [-1, -4, -2]  # Negated for linprog (minimization)\n",
        "\n",
        "# Inequality constraint coefficients (Ax <= b)\n",
        "A = [\n",
        "    [5, 2, 2],\n",
        "    [4, 8, -8],\n",
        "    [1, 1, 4]\n",
        "]\n",
        "b = [145, 260, 190]\n",
        "\n",
        "\n",
        "result_primal = linprog(c, A_ub=A, b_ub=b, bounds=(0, None), method=\"highs\")\n",
        "x_primal = result_primal.x\n",
        "optimal_primal_value = -result_primal.fun\n",
        "\n",
        "print(\"Primal Solution:\")\n",
        "print(f\"Optimal values (x1, x2, x3): {x_primal}\")\n",
        "print(f\"Optimal objective value: {optimal_primal_value}\")\n",
        "\n",
        "Q = np.array([0, 52.5, 20])\n",
        "feasibility = np.all(np.dot(A, Q) <= b) and np.all(Q >= 0)\n",
        "\n",
        "print(\"\\nFeasibility Check for Q = (0, 52.5, 20):\")\n",
        "print(f\"Is Q feasible? {'Yes' if feasibility else 'No'}\")\n",
        "\n",
        "\n",
        "# w = 145y1 + 260y2 + 190y3\n",
        "c_dual = [145, 260, 190]\n",
        "\n",
        "A_dual = np.transpose(A)\n",
        "b_dual = np.array([-1, -4, -2])\n",
        "\n",
        "result_dual = linprog(c_dual, A_ub=-np.array(A_dual), b_ub=-np.array(b_dual), bounds=(0, None), method=\"highs\")\n",
        "y_dual = result_dual.x\n",
        "optimal_dual_value = result_dual.fun\n",
        "\n",
        "print(\"\\nDual Solution:\")\n",
        "print(f\"Optimal values (y1, y2, y3): {y_dual}\")\n",
        "print(f\"Optimal objective value: {optimal_dual_value}\")\n",
        "\n",
        "slack_primal = np.dot(A, x_primal) - b\n",
        "slack_dual = np.dot(A_dual, y_dual) - b_dual\n",
        "complementary_slackness = all(\n",
        "    np.isclose(slack_primal[i] * y_dual[i], 0) for i in range(len(y_dual))\n",
        ")\n",
        "\n",
        "print(\"\\nComplementary Slackness Check:\")\n",
        "print(f\"Is complementary slackness satisfied? {'Yes' if complementary_slackness else 'No'}\")\n",
        "\n",
        "# Check if Q is optimal\n",
        "Q_is_optimal = feasibility and np.isclose(optimal_primal_value, optimal_dual_value)\n",
        "\n",
        "print(\"\\nOptimality Check for Q = (0, 52.5, 20):\")\n",
        "print(f\"Is Q optimal for the primal problem? {'Yes' if Q_is_optimal else 'No'}\")\n"
      ]
    }
  ]
}